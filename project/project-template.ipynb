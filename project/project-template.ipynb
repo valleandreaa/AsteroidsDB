{
 "cells": [
  {
   "cell_type": "markdown",
   "metadata": {
    "hide_input": true
   },
   "source": [
    "<div style=\"text-align:left;\"><img src=\"images/logo.png\" style=\"display:inline-block;\"/></div>"
   ]
  },
  {
   "cell_type": "markdown",
   "metadata": {},
   "source": [
    "# My Project Title"
   ]
  },
  {
   "cell_type": "markdown",
   "source": [
    "<h1>Table of Contents<span class=\"tocSkip\"></span></h1>\n",
    "<div class=\"toc\"><ul class=\"toc-item\"><li><span><a href=\"#Summary\" data-toc-modified-id=\"Summary-1\"><span class=\"toc-item-num\">1&nbsp;&nbsp;</span>Summary</a></span></li><li><span><a href=\"#Requirements-&amp;-Configuration\" data-toc-modified-id=\"Requirements-&amp;-Configuration-2\"><span class=\"toc-item-num\">2&nbsp;&nbsp;</span>Requirements &amp; Configuration</a></span></li><li><span><a href=\"#ELT-Process\" data-toc-modified-id=\"ELT-Process-3\"><span class=\"toc-item-num\">3&nbsp;&nbsp;</span>ELT Process</a></span><ul class=\"toc-item\"><li><span><a href=\"#DB-Setup\" data-toc-modified-id=\"DB-Setup-3.1\"><span class=\"toc-item-num\">3.1&nbsp;&nbsp;</span>DB Setup</a></span></li><li><span><a href=\"#Extract\" data-toc-modified-id=\"Extract-3.2\"><span class=\"toc-item-num\">3.2&nbsp;&nbsp;</span>Extract</a></span></li><li><span><a href=\"#Load\" data-toc-modified-id=\"Load-3.3\"><span class=\"toc-item-num\">3.3&nbsp;&nbsp;</span>Load</a></span></li><li><span><a href=\"#Transform\" data-toc-modified-id=\"Transform-3.4\"><span class=\"toc-item-num\">3.4&nbsp;&nbsp;</span>Transform</a></span></li><li><span><a href=\"#Datastructure\" data-toc-modified-id=\"Datastructure-3.5\"><span class=\"toc-item-num\">3.5&nbsp;&nbsp;</span>Datastructure</a></span></li></ul></li><li><span><a href=\"#Data-analysis\" data-toc-modified-id=\"Data-analysis-4\"><span class=\"toc-item-num\">4&nbsp;&nbsp;</span>Data analysis</a></span><ul class=\"toc-item\"><li><span><a href=\"#Top-10-Ingredients\" data-toc-modified-id=\"Top-10-Ingredients-4.1\"><span class=\"toc-item-num\">4.1&nbsp;&nbsp;</span>Top 10 Ingredients</a></span></li><li><span><a href=\"#Top-10-Longest-Drink-Names\" data-toc-modified-id=\"Top-10-Longest-Drink-Names-4.2\"><span class=\"toc-item-num\">4.2&nbsp;&nbsp;</span>Top 10 Longest Drink Names</a></span></li></ul></li><li><span><a href=\"#Conclusions\" data-toc-modified-id=\"Conclusions-5\"><span class=\"toc-item-num\">5&nbsp;&nbsp;</span>Conclusions</a></span></li><li><span><a href=\"#Learnings\" data-toc-modified-id=\"Learnings-6\"><span class=\"toc-item-num\">6&nbsp;&nbsp;</span>Learnings</a></span></li></ul></div>"
   ],
   "metadata": {
    "collapsed": false
   }
  },
  {
   "cell_type": "code",
   "execution_count": null,
   "outputs": [],
   "source": [],
   "metadata": {
    "collapsed": false
   }
  },
  {
   "cell_type": "markdown",
   "metadata": {},
   "source": [
    "## Summary"
   ]
  },
  {
   "cell_type": "markdown",
   "metadata": {
    "hide_input": true
   },
   "source": [
    "Lorem ipsum dolor sit amet, consetetur sadipscing elitr, sed diam nonumy eirmod tempor invidunt ut labore et dolore magna aliquyam erat, sed diam voluptua. At vero eos et accusam et justo duo dolores et ea rebum. Stet clita kasd gubergren, no sea takimata sanctus est Lorem ipsum dolor sit amet. Lorem ipsum dolor sit amet, consetetur sadipscing elitr, sed diam nonumy eirmod tempor invidunt ut labore et dolore magna aliquyam erat, sed diam voluptua. At vero eos et accusam et justo duo dolores et ea rebum. \n"
   ]
  },
  {
   "cell_type": "markdown",
   "metadata": {},
   "source": [
    "<div style=\"height:200px;display:inline-block;width:100%;background:#fafafa;\"></div>"
   ]
  },
  {
   "cell_type": "markdown",
   "metadata": {},
   "source": [
    "##  Requirements & Configuration"
   ]
  },
  {
   "cell_type": "code",
   "execution_count": 115,
   "metadata": {},
   "outputs": [
    {
     "name": "stdout",
     "output_type": "stream",
     "text": [
      "dnspython                         2.2.0\n",
      "pandas                            1.4.1\n",
      "pymongo                           4.0.1\n"
     ]
    }
   ],
   "source": [
    "! pip3 list | findstr \"pymongo dnspython pandas\""
   ]
  },
  {
   "cell_type": "code",
   "execution_count": 128,
   "metadata": {},
   "outputs": [],
   "source": [
    "import pymongo\n",
    "import pprint as pp\n",
    "import pandas as pd\n",
    "import requests\n",
    "import json\n",
    "import time\n",
    "import string"
   ]
  },
  {
   "cell_type": "code",
   "execution_count": 117,
   "metadata": {},
   "outputs": [],
   "source": [
    "# pandas configuration\n",
    "pd.set_option('precision', 2)\n",
    "pd.set_option('max_rows', 30)\n",
    "pd.set_option('max_colwidth', 50)\n",
    "# pd.describe_option('max_rows')\n",
    "# pd.describe_option('precision')\n",
    "# pd.describe_option('max_colwidth')"
   ]
  },
  {
   "cell_type": "code",
   "execution_count": 39,
   "metadata": {},
   "outputs": [],
   "source": [
    "# API and Database details\n",
    "API_URL = \"https://www.thecocktaildb.com/api/json/v1/1/search.php\"\n",
    "CNX_STR = \"localhost:27017\"\n",
    "DB_NAME = \"cocktaildb\"\n",
    "COLL_NAME = \"drinks\""
   ]
  },
  {
   "cell_type": "markdown",
   "metadata": {},
   "source": [
    "<div style=\"height:200px;display:inline-block;width:100%;background:#fafafa;\"></div>"
   ]
  },
  {
   "cell_type": "markdown",
   "metadata": {},
   "source": [
    "## ELT Process"
   ]
  },
  {
   "cell_type": "markdown",
   "metadata": {},
   "source": [
    "### DB Setup"
   ]
  },
  {
   "cell_type": "code",
   "execution_count": 41,
   "metadata": {},
   "outputs": [],
   "source": [
    "# connection to MongoDB\n",
    "client = pymongo.MongoClient(CNX_STR)\n",
    "db = client[DB_NAME]\n",
    "drinks = db[COLL_NAME]"
   ]
  },
  {
   "cell_type": "markdown",
   "source": [],
   "metadata": {
    "collapsed": false
   }
  },
  {
   "cell_type": "code",
   "execution_count": 59,
   "metadata": {},
   "outputs": [
    {
     "data": {
      "text/plain": [
       "0"
      ]
     },
     "execution_count": 59,
     "metadata": {},
     "output_type": "execute_result"
    }
   ],
   "source": [
    "# Remove all existing documents\n",
    "drinks.drop()\n",
    "drinks.count_documents({})"
   ]
  },
  {
   "cell_type": "markdown",
   "metadata": {},
   "source": [
    "###  Extract"
   ]
  },
  {
   "cell_type": "code",
   "execution_count": 140,
   "metadata": {},
   "outputs": [
    {
     "data": {
      "text/plain": [
       "{'idDrink': '17222',\n",
       " 'strDrink': 'A1',\n",
       " 'strCategory': 'Cocktail',\n",
       " 'strAlcoholic': 'Alcoholic',\n",
       " 'strGlass': 'Cocktail glass',\n",
       " 'strInstructions': 'Pour all ingredients into a cocktail shaker, mix and serve over ice into a chilled glass.',\n",
       " 'strInstructionsES': 'Vierta todos los ingredientes en una coctelera, mezcle y sirva con hielo en un vaso frío.',\n",
       " 'strInstructionsDE': 'Alle Zutaten in einen Cocktailshaker geben, mischen und über Eis in ein gekühltes Glas servieren.',\n",
       " 'strInstructionsIT': 'Versare tutti gli ingredienti in uno shaker, mescolare e servire con ghiaccio in un bicchiere freddo.',\n",
       " 'strDrinkThumb': 'https://www.thecocktaildb.com/images/media/drink/2x8thr1504816928.jpg',\n",
       " 'strIngredient1': 'Gin',\n",
       " 'strIngredient2': 'Grand Marnier',\n",
       " 'strIngredient3': 'Lemon Juice',\n",
       " 'strIngredient4': 'Grenadine',\n",
       " 'strMeasure1': '1 3/4 shot ',\n",
       " 'strMeasure2': '1 Shot ',\n",
       " 'strMeasure3': '1/4 Shot',\n",
       " 'strMeasure4': '1/8 Shot',\n",
       " 'strCreativeCommonsConfirmed': 'No',\n",
       " 'dateModified': '2017-09-07 21:42:09'}"
      ]
     },
     "execution_count": 140,
     "metadata": {},
     "output_type": "execute_result"
    }
   ],
   "source": [
    "# download all drinks starting with \"A\"\n",
    "url = f'{API_URL}?f=a'\n",
    "r = requests.get(url)\n",
    "data = r.json()\n",
    "\n",
    "# inspect first drink\n",
    "drink = data['drinks'][0]\n",
    "\n",
    "# hide fields with None values\n",
    "for key in list(drink.keys()):\n",
    "    if drink[key] is None:\n",
    "        del drink[key]\n",
    "\n",
    "drink"
   ]
  },
  {
   "cell_type": "code",
   "execution_count": 143,
   "metadata": {},
   "outputs": [],
   "source": [
    "# extract values from single drink\n",
    "def extract_values(drink):\n",
    "    values = {\n",
    "        'id': int(drink['idDrink']),\n",
    "        'name': drink['strDrink'],\n",
    "        'category': drink['strCategory'],\n",
    "        'alcoholic': drink['strAlcoholic']=='Alcoholic',\n",
    "        'modified': drink['dateModified'],\n",
    "        'ingredients': [],\n",
    "    }\n",
    "    \n",
    "    for i in range(15):\n",
    "        key = f'strIngredient{i+1}'\n",
    "        if key in drink:\n",
    "            ingredient = drink[key]\n",
    "            if ingredient is not None:\n",
    "                values['ingredients'].append(ingredient)\n",
    "            \n",
    "    return values"
   ]
  },
  {
   "cell_type": "code",
   "execution_count": 145,
   "metadata": {},
   "outputs": [
    {
     "data": {
      "text/plain": [
       "{'id': 17222,\n",
       " 'name': 'A1',\n",
       " 'category': 'Cocktail',\n",
       " 'alcoholic': True,\n",
       " 'modified': '2017-09-07 21:42:09',\n",
       " 'ingredients': ['Gin', 'Grand Marnier', 'Lemon Juice', 'Grenadine']}"
      ]
     },
     "execution_count": 145,
     "metadata": {},
     "output_type": "execute_result"
    }
   ],
   "source": [
    "# test extraction for one drink\n",
    "doc = extract_values(drink)\n",
    "doc"
   ]
  },
  {
   "cell_type": "code",
   "execution_count": 51,
   "metadata": {},
   "outputs": [
    {
     "name": "stdout",
     "output_type": "stream",
     "text": [
      "['a', 'b', 'c', 'd', 'e', 'f', 'g', 'h', 'i', 'j', 'k', 'l', 'm', 'n', 'o', 'p', 'q', 'r', 's', 't', 'u', 'v', 'w', 'x', 'y', 'z', '0', '1', '2', '3', '4', '5', '6', '7', '8', '9']\n"
     ]
    }
   ],
   "source": [
    "# generate list of characters including digits\n",
    "list_characters = [char for char in string.ascii_lowercase + string.digits]\n",
    "print(list_characters)"
   ]
  },
  {
   "cell_type": "code",
   "execution_count": 105,
   "metadata": {},
   "outputs": [
    {
     "name": "stdout",
     "output_type": "stream",
     "text": [
      "- 9 (36/36)\r"
     ]
    }
   ],
   "source": [
    "# download/search drinks by starting char\n",
    "list_drinks = []\n",
    "for i, char in enumerate(list_characters):\n",
    "    print(f'- {char} ({i+1}/{len(list_characters)})', end='\\r')\n",
    "    url = f'{API_URL}?f={char}'\n",
    "    r = requests.get(url)\n",
    "    data = r.json()\n",
    "    if data['drinks'] is not None:\n",
    "        for drink in data['drinks']:\n",
    "            values = extract_values(drink)\n",
    "            list_drinks.append(values)\n",
    "    time.sleep(1)  # Be nice and throttle your downloads"
   ]
  },
  {
   "cell_type": "code",
   "execution_count": 60,
   "metadata": {},
   "outputs": [
    {
     "data": {
      "text/plain": [
       "{'id': 17222,\n",
       " 'name': 'A1',\n",
       " 'category': 'Cocktail',\n",
       " 'alcoholic': True,\n",
       " 'modified': '2017-09-07 21:42:09',\n",
       " 'ingredients': ['Gin', 'Grand Marnier', 'Lemon Juice', 'Grenadine']}"
      ]
     },
     "execution_count": 60,
     "metadata": {},
     "output_type": "execute_result"
    }
   ],
   "source": [
    "# inspect first drink:\n",
    "list_drinks[0]"
   ]
  },
  {
   "cell_type": "markdown",
   "metadata": {},
   "source": [
    "<div style=\"height:700px;display:inline-block;width:100%;background:#fafafa;\"></div>"
   ]
  },
  {
   "cell_type": "markdown",
   "metadata": {},
   "source": [
    "### Load"
   ]
  },
  {
   "cell_type": "code",
   "execution_count": 63,
   "metadata": {},
   "outputs": [],
   "source": [
    "# insert the list of drinks(=documents) into MongoDB collection \"drinks\"\n",
    "drinks.insert_many(list_drinks);"
   ]
  },
  {
   "cell_type": "code",
   "execution_count": 64,
   "metadata": {},
   "outputs": [
    {
     "data": {
      "text/plain": [
       "441"
      ]
     },
     "execution_count": 64,
     "metadata": {},
     "output_type": "execute_result"
    }
   ],
   "source": [
    "# count number of documents inserted\n",
    "drinks.count_documents({})"
   ]
  },
  {
   "cell_type": "code",
   "execution_count": 71,
   "metadata": {},
   "outputs": [
    {
     "data": {
      "text/plain": [
       "{'_id': ObjectId('6408f09eb0d2b162c64ea00c'),\n",
       " 'id': 17222,\n",
       " 'name': 'A1',\n",
       " 'category': 'Cocktail',\n",
       " 'alcoholic': True,\n",
       " 'modified': '2017-09-07 21:42:09',\n",
       " 'ingredients': ['Gin', 'Grand Marnier', 'Lemon Juice', 'Grenadine']}"
      ]
     },
     "execution_count": 71,
     "metadata": {},
     "output_type": "execute_result"
    }
   ],
   "source": [
    "# get one drink from MongoDB\n",
    "drinks.find_one()"
   ]
  },
  {
   "cell_type": "code",
   "execution_count": 73,
   "metadata": {},
   "outputs": [
    {
     "data": {
      "text/html": [
       "<div>\n",
       "<style scoped>\n",
       "    .dataframe tbody tr th:only-of-type {\n",
       "        vertical-align: middle;\n",
       "    }\n",
       "\n",
       "    .dataframe tbody tr th {\n",
       "        vertical-align: top;\n",
       "    }\n",
       "\n",
       "    .dataframe thead th {\n",
       "        text-align: right;\n",
       "    }\n",
       "</style>\n",
       "<table border=\"1\" class=\"dataframe\">\n",
       "  <thead>\n",
       "    <tr style=\"text-align: right;\">\n",
       "      <th></th>\n",
       "      <th>_id</th>\n",
       "      <th>id</th>\n",
       "      <th>name</th>\n",
       "      <th>category</th>\n",
       "      <th>alcoholic</th>\n",
       "      <th>modified</th>\n",
       "      <th>ingredients</th>\n",
       "    </tr>\n",
       "  </thead>\n",
       "  <tbody>\n",
       "    <tr>\n",
       "      <th>0</th>\n",
       "      <td>6408f09eb0d2b162c64ea00c</td>\n",
       "      <td>17222</td>\n",
       "      <td>A1</td>\n",
       "      <td>Cocktail</td>\n",
       "      <td>True</td>\n",
       "      <td>2017-09-07 21:42:09</td>\n",
       "      <td>[Gin, Grand Marnier, Lemon Juice, Grenadine]</td>\n",
       "    </tr>\n",
       "    <tr>\n",
       "      <th>1</th>\n",
       "      <td>6408f09eb0d2b162c64ea00d</td>\n",
       "      <td>13501</td>\n",
       "      <td>ABC</td>\n",
       "      <td>Shot</td>\n",
       "      <td>True</td>\n",
       "      <td>2016-08-31 19:32:08</td>\n",
       "      <td>[Amaretto, Baileys irish cream, Cognac]</td>\n",
       "    </tr>\n",
       "    <tr>\n",
       "      <th>2</th>\n",
       "      <td>6408f09eb0d2b162c64ea00e</td>\n",
       "      <td>17225</td>\n",
       "      <td>Ace</td>\n",
       "      <td>Cocktail</td>\n",
       "      <td>True</td>\n",
       "      <td>2017-09-07 22:05:06</td>\n",
       "      <td>[Gin, Grenadine, Heavy cream, Milk, Egg White]</td>\n",
       "    </tr>\n",
       "    <tr>\n",
       "      <th>3</th>\n",
       "      <td>6408f09eb0d2b162c64ea00f</td>\n",
       "      <td>14610</td>\n",
       "      <td>ACID</td>\n",
       "      <td>Shot</td>\n",
       "      <td>True</td>\n",
       "      <td>2016-11-15 11:28:37</td>\n",
       "      <td>[151 proof rum, Wild Turkey]</td>\n",
       "    </tr>\n",
       "    <tr>\n",
       "      <th>4</th>\n",
       "      <td>6408f09eb0d2b162c64ea010</td>\n",
       "      <td>17837</td>\n",
       "      <td>Adam</td>\n",
       "      <td>Ordinary Drink</td>\n",
       "      <td>True</td>\n",
       "      <td>2016-09-02 11:29:29</td>\n",
       "      <td>[Dark rum, Lemon juice, Grenadine]</td>\n",
       "    </tr>\n",
       "  </tbody>\n",
       "</table>\n",
       "</div>"
      ],
      "text/plain": [
       "                        _id     id  name        category  alcoholic  \\\n",
       "0  6408f09eb0d2b162c64ea00c  17222    A1        Cocktail       True   \n",
       "1  6408f09eb0d2b162c64ea00d  13501   ABC            Shot       True   \n",
       "2  6408f09eb0d2b162c64ea00e  17225   Ace        Cocktail       True   \n",
       "3  6408f09eb0d2b162c64ea00f  14610  ACID            Shot       True   \n",
       "4  6408f09eb0d2b162c64ea010  17837  Adam  Ordinary Drink       True   \n",
       "\n",
       "              modified                                     ingredients  \n",
       "0  2017-09-07 21:42:09    [Gin, Grand Marnier, Lemon Juice, Grenadine]  \n",
       "1  2016-08-31 19:32:08         [Amaretto, Baileys irish cream, Cognac]  \n",
       "2  2017-09-07 22:05:06  [Gin, Grenadine, Heavy cream, Milk, Egg White]  \n",
       "3  2016-11-15 11:28:37                    [151 proof rum, Wild Turkey]  \n",
       "4  2016-09-02 11:29:29              [Dark rum, Lemon juice, Grenadine]  "
      ]
     },
     "execution_count": 73,
     "metadata": {},
     "output_type": "execute_result"
    }
   ],
   "source": [
    "# get 5 drinks from MongoDB and display as datframe\n",
    "r = drinks.aggregate([\n",
    "      {\"$limit\": 5},\n",
    "])\n",
    "\n",
    "pd.DataFrame(r)"
   ]
  },
  {
   "cell_type": "markdown",
   "metadata": {},
   "source": [
    "### Transform"
   ]
  },
  {
   "cell_type": "code",
   "execution_count": 90,
   "metadata": {},
   "outputs": [
    {
     "data": {
      "text/html": [
       "<div>\n",
       "<style scoped>\n",
       "    .dataframe tbody tr th:only-of-type {\n",
       "        vertical-align: middle;\n",
       "    }\n",
       "\n",
       "    .dataframe tbody tr th {\n",
       "        vertical-align: top;\n",
       "    }\n",
       "\n",
       "    .dataframe thead th {\n",
       "        text-align: right;\n",
       "    }\n",
       "</style>\n",
       "<table border=\"1\" class=\"dataframe\">\n",
       "  <thead>\n",
       "    <tr style=\"text-align: right;\">\n",
       "      <th></th>\n",
       "      <th>id</th>\n",
       "      <th>name</th>\n",
       "      <th>category</th>\n",
       "      <th>alcoholic</th>\n",
       "      <th>modified</th>\n",
       "      <th>ingredients</th>\n",
       "    </tr>\n",
       "  </thead>\n",
       "  <tbody>\n",
       "    <tr>\n",
       "      <th>0</th>\n",
       "      <td>17222</td>\n",
       "      <td>A1</td>\n",
       "      <td>Cocktail</td>\n",
       "      <td>True</td>\n",
       "      <td>2017-09-07 21:42:09</td>\n",
       "      <td>[Gin, Grand Marnier, Lemon Juice, Grenadine]</td>\n",
       "    </tr>\n",
       "    <tr>\n",
       "      <th>1</th>\n",
       "      <td>13501</td>\n",
       "      <td>ABC</td>\n",
       "      <td>Shot</td>\n",
       "      <td>True</td>\n",
       "      <td>2016-08-31 19:32:08</td>\n",
       "      <td>[Amaretto, Baileys irish cream, Cognac]</td>\n",
       "    </tr>\n",
       "    <tr>\n",
       "      <th>2</th>\n",
       "      <td>17225</td>\n",
       "      <td>Ace</td>\n",
       "      <td>Cocktail</td>\n",
       "      <td>True</td>\n",
       "      <td>2017-09-07 22:05:06</td>\n",
       "      <td>[Gin, Grenadine, Heavy cream, Milk, Egg White]</td>\n",
       "    </tr>\n",
       "    <tr>\n",
       "      <th>3</th>\n",
       "      <td>14610</td>\n",
       "      <td>ACID</td>\n",
       "      <td>Shot</td>\n",
       "      <td>True</td>\n",
       "      <td>2016-11-15 11:28:37</td>\n",
       "      <td>[151 proof rum, Wild Turkey]</td>\n",
       "    </tr>\n",
       "    <tr>\n",
       "      <th>4</th>\n",
       "      <td>17837</td>\n",
       "      <td>Adam</td>\n",
       "      <td>Ordinary Drink</td>\n",
       "      <td>True</td>\n",
       "      <td>2016-09-02 11:29:29</td>\n",
       "      <td>[Dark rum, Lemon juice, Grenadine]</td>\n",
       "    </tr>\n",
       "  </tbody>\n",
       "</table>\n",
       "</div>"
      ],
      "text/plain": [
       "      id  name        category  alcoholic             modified  \\\n",
       "0  17222    A1        Cocktail       True  2017-09-07 21:42:09   \n",
       "1  13501   ABC            Shot       True  2016-08-31 19:32:08   \n",
       "2  17225   Ace        Cocktail       True  2017-09-07 22:05:06   \n",
       "3  14610  ACID            Shot       True  2016-11-15 11:28:37   \n",
       "4  17837  Adam  Ordinary Drink       True  2016-09-02 11:29:29   \n",
       "\n",
       "                                      ingredients  \n",
       "0    [Gin, Grand Marnier, Lemon Juice, Grenadine]  \n",
       "1         [Amaretto, Baileys irish cream, Cognac]  \n",
       "2  [Gin, Grenadine, Heavy cream, Milk, Egg White]  \n",
       "3                    [151 proof rum, Wild Turkey]  \n",
       "4              [Dark rum, Lemon juice, Grenadine]  "
      ]
     },
     "execution_count": 90,
     "metadata": {},
     "output_type": "execute_result"
    }
   ],
   "source": [
    "# check document structure\n",
    "r = drinks.aggregate([\n",
    "    {\"$project\": {\"_id\": 0}},\n",
    "    {\"$limit\": 5},\n",
    "])\n",
    "pd.DataFrame(r)"
   ]
  },
  {
   "cell_type": "code",
   "execution_count": 91,
   "metadata": {},
   "outputs": [],
   "source": [
    "# add field \"ingredients_cnt\" to collection\n",
    "r = drinks.aggregate([\n",
    "    {\"$addFields\": {\"ingredients_cnt\": { \"$size\": \"$ingredients\"}}},\n",
    "    {\"$out\": \"drinks\"},\n",
    "])"
   ]
  },
  {
   "cell_type": "code",
   "execution_count": 92,
   "metadata": {},
   "outputs": [
    {
     "data": {
      "text/html": [
       "<div>\n",
       "<style scoped>\n",
       "    .dataframe tbody tr th:only-of-type {\n",
       "        vertical-align: middle;\n",
       "    }\n",
       "\n",
       "    .dataframe tbody tr th {\n",
       "        vertical-align: top;\n",
       "    }\n",
       "\n",
       "    .dataframe thead th {\n",
       "        text-align: right;\n",
       "    }\n",
       "</style>\n",
       "<table border=\"1\" class=\"dataframe\">\n",
       "  <thead>\n",
       "    <tr style=\"text-align: right;\">\n",
       "      <th></th>\n",
       "      <th>id</th>\n",
       "      <th>name</th>\n",
       "      <th>category</th>\n",
       "      <th>alcoholic</th>\n",
       "      <th>modified</th>\n",
       "      <th>ingredients</th>\n",
       "      <th>ingredients_cnt</th>\n",
       "    </tr>\n",
       "  </thead>\n",
       "  <tbody>\n",
       "    <tr>\n",
       "      <th>0</th>\n",
       "      <td>17222</td>\n",
       "      <td>A1</td>\n",
       "      <td>Cocktail</td>\n",
       "      <td>True</td>\n",
       "      <td>2017-09-07 21:42:09</td>\n",
       "      <td>[Gin, Grand Marnier, Lemon Juice, Grenadine]</td>\n",
       "      <td>4</td>\n",
       "    </tr>\n",
       "    <tr>\n",
       "      <th>1</th>\n",
       "      <td>13501</td>\n",
       "      <td>ABC</td>\n",
       "      <td>Shot</td>\n",
       "      <td>True</td>\n",
       "      <td>2016-08-31 19:32:08</td>\n",
       "      <td>[Amaretto, Baileys irish cream, Cognac]</td>\n",
       "      <td>3</td>\n",
       "    </tr>\n",
       "    <tr>\n",
       "      <th>2</th>\n",
       "      <td>17225</td>\n",
       "      <td>Ace</td>\n",
       "      <td>Cocktail</td>\n",
       "      <td>True</td>\n",
       "      <td>2017-09-07 22:05:06</td>\n",
       "      <td>[Gin, Grenadine, Heavy cream, Milk, Egg White]</td>\n",
       "      <td>5</td>\n",
       "    </tr>\n",
       "    <tr>\n",
       "      <th>3</th>\n",
       "      <td>14610</td>\n",
       "      <td>ACID</td>\n",
       "      <td>Shot</td>\n",
       "      <td>True</td>\n",
       "      <td>2016-11-15 11:28:37</td>\n",
       "      <td>[151 proof rum, Wild Turkey]</td>\n",
       "      <td>2</td>\n",
       "    </tr>\n",
       "    <tr>\n",
       "      <th>4</th>\n",
       "      <td>17837</td>\n",
       "      <td>Adam</td>\n",
       "      <td>Ordinary Drink</td>\n",
       "      <td>True</td>\n",
       "      <td>2016-09-02 11:29:29</td>\n",
       "      <td>[Dark rum, Lemon juice, Grenadine]</td>\n",
       "      <td>3</td>\n",
       "    </tr>\n",
       "  </tbody>\n",
       "</table>\n",
       "</div>"
      ],
      "text/plain": [
       "      id  name        category  alcoholic             modified  \\\n",
       "0  17222    A1        Cocktail       True  2017-09-07 21:42:09   \n",
       "1  13501   ABC            Shot       True  2016-08-31 19:32:08   \n",
       "2  17225   Ace        Cocktail       True  2017-09-07 22:05:06   \n",
       "3  14610  ACID            Shot       True  2016-11-15 11:28:37   \n",
       "4  17837  Adam  Ordinary Drink       True  2016-09-02 11:29:29   \n",
       "\n",
       "                                      ingredients  ingredients_cnt  \n",
       "0    [Gin, Grand Marnier, Lemon Juice, Grenadine]                4  \n",
       "1         [Amaretto, Baileys irish cream, Cognac]                3  \n",
       "2  [Gin, Grenadine, Heavy cream, Milk, Egg White]                5  \n",
       "3                    [151 proof rum, Wild Turkey]                2  \n",
       "4              [Dark rum, Lemon juice, Grenadine]                3  "
      ]
     },
     "execution_count": 92,
     "metadata": {},
     "output_type": "execute_result"
    }
   ],
   "source": [
    "# check document structure\n",
    "r = drinks.aggregate([\n",
    "    {\"$project\": {\"_id\": 0}},\n",
    "    {\"$limit\": 5},\n",
    "])\n",
    "pd.DataFrame(r)"
   ]
  },
  {
   "cell_type": "code",
   "execution_count": 93,
   "metadata": {},
   "outputs": [],
   "source": [
    "# drop field \"modified\"\n",
    "r = drinks.aggregate([\n",
    "    {\"$unset\": \"modified\"},\n",
    "    {\"$out\": \"drinks\"},\n",
    "])"
   ]
  },
  {
   "cell_type": "code",
   "execution_count": 94,
   "metadata": {},
   "outputs": [
    {
     "data": {
      "text/html": [
       "<div>\n",
       "<style scoped>\n",
       "    .dataframe tbody tr th:only-of-type {\n",
       "        vertical-align: middle;\n",
       "    }\n",
       "\n",
       "    .dataframe tbody tr th {\n",
       "        vertical-align: top;\n",
       "    }\n",
       "\n",
       "    .dataframe thead th {\n",
       "        text-align: right;\n",
       "    }\n",
       "</style>\n",
       "<table border=\"1\" class=\"dataframe\">\n",
       "  <thead>\n",
       "    <tr style=\"text-align: right;\">\n",
       "      <th></th>\n",
       "      <th>id</th>\n",
       "      <th>name</th>\n",
       "      <th>category</th>\n",
       "      <th>alcoholic</th>\n",
       "      <th>ingredients</th>\n",
       "      <th>ingredients_cnt</th>\n",
       "    </tr>\n",
       "  </thead>\n",
       "  <tbody>\n",
       "    <tr>\n",
       "      <th>0</th>\n",
       "      <td>17222</td>\n",
       "      <td>A1</td>\n",
       "      <td>Cocktail</td>\n",
       "      <td>True</td>\n",
       "      <td>[Gin, Grand Marnier, Lemon Juice, Grenadine]</td>\n",
       "      <td>4</td>\n",
       "    </tr>\n",
       "    <tr>\n",
       "      <th>1</th>\n",
       "      <td>13501</td>\n",
       "      <td>ABC</td>\n",
       "      <td>Shot</td>\n",
       "      <td>True</td>\n",
       "      <td>[Amaretto, Baileys irish cream, Cognac]</td>\n",
       "      <td>3</td>\n",
       "    </tr>\n",
       "    <tr>\n",
       "      <th>2</th>\n",
       "      <td>17225</td>\n",
       "      <td>Ace</td>\n",
       "      <td>Cocktail</td>\n",
       "      <td>True</td>\n",
       "      <td>[Gin, Grenadine, Heavy cream, Milk, Egg White]</td>\n",
       "      <td>5</td>\n",
       "    </tr>\n",
       "    <tr>\n",
       "      <th>3</th>\n",
       "      <td>14610</td>\n",
       "      <td>ACID</td>\n",
       "      <td>Shot</td>\n",
       "      <td>True</td>\n",
       "      <td>[151 proof rum, Wild Turkey]</td>\n",
       "      <td>2</td>\n",
       "    </tr>\n",
       "    <tr>\n",
       "      <th>4</th>\n",
       "      <td>17837</td>\n",
       "      <td>Adam</td>\n",
       "      <td>Ordinary Drink</td>\n",
       "      <td>True</td>\n",
       "      <td>[Dark rum, Lemon juice, Grenadine]</td>\n",
       "      <td>3</td>\n",
       "    </tr>\n",
       "  </tbody>\n",
       "</table>\n",
       "</div>"
      ],
      "text/plain": [
       "      id  name        category  alcoholic  \\\n",
       "0  17222    A1        Cocktail       True   \n",
       "1  13501   ABC            Shot       True   \n",
       "2  17225   Ace        Cocktail       True   \n",
       "3  14610  ACID            Shot       True   \n",
       "4  17837  Adam  Ordinary Drink       True   \n",
       "\n",
       "                                      ingredients  ingredients_cnt  \n",
       "0    [Gin, Grand Marnier, Lemon Juice, Grenadine]                4  \n",
       "1         [Amaretto, Baileys irish cream, Cognac]                3  \n",
       "2  [Gin, Grenadine, Heavy cream, Milk, Egg White]                5  \n",
       "3                    [151 proof rum, Wild Turkey]                2  \n",
       "4              [Dark rum, Lemon juice, Grenadine]                3  "
      ]
     },
     "execution_count": 94,
     "metadata": {},
     "output_type": "execute_result"
    }
   ],
   "source": [
    "# check document structure\n",
    "r = drinks.aggregate([\n",
    "    {\"$project\": {\"_id\": 0}},\n",
    "    {\"$limit\": 5},\n",
    "])\n",
    "pd.DataFrame(r)"
   ]
  },
  {
   "cell_type": "code",
   "execution_count": null,
   "metadata": {},
   "outputs": [],
   "source": [
    "# Don't forget data quality checks!"
   ]
  },
  {
   "cell_type": "markdown",
   "metadata": {},
   "source": [
    "<div style=\"height:300px;display:inline-block;width:100%;background:#fafafa;\"></div>"
   ]
  },
  {
   "cell_type": "markdown",
   "metadata": {},
   "source": [
    "### Datastructure"
   ]
  },
  {
   "cell_type": "markdown",
   "metadata": {},
   "source": [
    "<img src=\"images/mongodb.svg\" style=\"height:400px;\">\n",
    "\n",
    "Duis autem vel eum iriure dolor in hendrerit in vulputate velit esse molestie consequat, vel illum dolore eu feugiat nulla facilisis at vero eros et accumsan et iusto odio dignissim qui blandit praesent luptatum zzril delenit augue duis dolore te feugait nulla facilisi. Lorem ipsum dolor sit amet, consectetuer adipiscing elit, sed diam nonummy nibh euismod tincidunt ut laoreet dolore magna aliquam erat volutpat. "
   ]
  },
  {
   "cell_type": "markdown",
   "metadata": {},
   "source": [
    "<div style=\"height:300px;display:inline-block;width:100%;background:#fafafa;\"></div>"
   ]
  },
  {
   "cell_type": "markdown",
   "metadata": {},
   "source": [
    "## Data analysis"
   ]
  },
  {
   "cell_type": "markdown",
   "metadata": {},
   "source": [
    "Quisque sit amet turpis lectus. Phasellus tincidunt mi metus, et ornare ipsum consectetur eu. Cras accumsan purus vel leo viverra, at mollis neque interdum. Sed non ultrices odio, vitae sodales neque. Quisque diam odio, gravida quis auctor ut, aliquet ac ex. Integer venenatis elit ex, vitae imperdiet tortor malesuada quis. Vestibulum dignissim est sed libero viverra interdum."
   ]
  },
  {
   "cell_type": "markdown",
   "metadata": {},
   "source": [
    "### Top 10 Ingredients"
   ]
  },
  {
   "cell_type": "markdown",
   "metadata": {},
   "source": [
    "Orci varius natoque penatibus et magnis dis parturient montes, nascetur ridiculus mus. Donec in risus sed augue blandit tincidunt eu nec leo. Phasellus suscipit ex ut luctus auctor. Mauris efficitur finibus nunc, gravida pulvinar metus commodo eget. Quisque quis orci vehicula, maximus tellus sit amet, dignissim ligula. Proin auctor, tellus eget tempus imperdiet, nunc nisi laoreet tellus, nec viverra ipsum quam in quam. "
   ]
  },
  {
   "cell_type": "code",
   "execution_count": 103,
   "metadata": {},
   "outputs": [
    {
     "data": {
      "text/html": [
       "<div>\n",
       "<style scoped>\n",
       "    .dataframe tbody tr th:only-of-type {\n",
       "        vertical-align: middle;\n",
       "    }\n",
       "\n",
       "    .dataframe tbody tr th {\n",
       "        vertical-align: top;\n",
       "    }\n",
       "\n",
       "    .dataframe thead th {\n",
       "        text-align: right;\n",
       "    }\n",
       "</style>\n",
       "<table border=\"1\" class=\"dataframe\">\n",
       "  <thead>\n",
       "    <tr style=\"text-align: right;\">\n",
       "      <th></th>\n",
       "      <th>count</th>\n",
       "      <th>name</th>\n",
       "    </tr>\n",
       "  </thead>\n",
       "  <tbody>\n",
       "    <tr>\n",
       "      <th>0</th>\n",
       "      <td>83</td>\n",
       "      <td>Gin</td>\n",
       "    </tr>\n",
       "    <tr>\n",
       "      <th>1</th>\n",
       "      <td>69</td>\n",
       "      <td>Vodka</td>\n",
       "    </tr>\n",
       "    <tr>\n",
       "      <th>2</th>\n",
       "      <td>51</td>\n",
       "      <td>Sugar</td>\n",
       "    </tr>\n",
       "    <tr>\n",
       "      <th>3</th>\n",
       "      <td>41</td>\n",
       "      <td>Orange juice</td>\n",
       "    </tr>\n",
       "    <tr>\n",
       "      <th>4</th>\n",
       "      <td>37</td>\n",
       "      <td>Ice</td>\n",
       "    </tr>\n",
       "    <tr>\n",
       "      <th>5</th>\n",
       "      <td>36</td>\n",
       "      <td>Lemon</td>\n",
       "    </tr>\n",
       "    <tr>\n",
       "      <th>6</th>\n",
       "      <td>36</td>\n",
       "      <td>Lemon juice</td>\n",
       "    </tr>\n",
       "    <tr>\n",
       "      <th>7</th>\n",
       "      <td>31</td>\n",
       "      <td>Grenadine</td>\n",
       "    </tr>\n",
       "    <tr>\n",
       "      <th>8</th>\n",
       "      <td>31</td>\n",
       "      <td>Light rum</td>\n",
       "    </tr>\n",
       "    <tr>\n",
       "      <th>9</th>\n",
       "      <td>30</td>\n",
       "      <td>Lime</td>\n",
       "    </tr>\n",
       "  </tbody>\n",
       "</table>\n",
       "</div>"
      ],
      "text/plain": [
       "   count          name\n",
       "0     83           Gin\n",
       "1     69         Vodka\n",
       "2     51         Sugar\n",
       "3     41  Orange juice\n",
       "4     37           Ice\n",
       "5     36         Lemon\n",
       "6     36   Lemon juice\n",
       "7     31     Grenadine\n",
       "8     31     Light rum\n",
       "9     30          Lime"
      ]
     },
     "execution_count": 103,
     "metadata": {},
     "output_type": "execute_result"
    }
   ],
   "source": [
    "r = drinks.aggregate([\n",
    "    {\"$project\": {\"ingredients\": 1}},\n",
    "    {\"$unwind\": \"$ingredients\"},\n",
    "    {\"$group\": {\"_id\": \"$ingredients\", \"count\": {\"$sum\": 1}}},\n",
    "    {\"$project\": {\"_id\": 0, \"name\": \"$_id\", \"count\":1}},\n",
    "    {\"$sort\": {\"count\": -1}},\n",
    "    {\"$limit\": 10},\n",
    " ])\n",
    "\n",
    "pd.DataFrame(r)"
   ]
  },
  {
   "cell_type": "markdown",
   "metadata": {},
   "source": [
    "<div style=\"height:100px;display:inline-block;width:100%;background:#fafafa;\"></div>"
   ]
  },
  {
   "cell_type": "markdown",
   "metadata": {},
   "source": [
    "### Top 10 Longest Drink Names"
   ]
  },
  {
   "cell_type": "markdown",
   "metadata": {},
   "source": [
    "Orci varius natoque penatibus et magnis dis parturient montes, nascetur ridiculus mus. Donec in risus sed augue blandit tincidunt eu nec leo. Phasellus suscipit ex ut luctus auctor. Mauris efficitur finibus nunc, gravida pulvinar metus commodo eget. Quisque quis orci vehicula, maximus tellus sit amet, dignissim ligula. Proin auctor, tellus eget tempus imperdiet, nunc nisi laoreet tellus, nec viverra ipsum quam in quam. "
   ]
  },
  {
   "cell_type": "code",
   "execution_count": 113,
   "metadata": {},
   "outputs": [
    {
     "data": {
      "text/html": [
       "<div>\n",
       "<style scoped>\n",
       "    .dataframe tbody tr th:only-of-type {\n",
       "        vertical-align: middle;\n",
       "    }\n",
       "\n",
       "    .dataframe tbody tr th {\n",
       "        vertical-align: top;\n",
       "    }\n",
       "\n",
       "    .dataframe thead th {\n",
       "        text-align: right;\n",
       "    }\n",
       "</style>\n",
       "<table border=\"1\" class=\"dataframe\">\n",
       "  <thead>\n",
       "    <tr style=\"text-align: right;\">\n",
       "      <th></th>\n",
       "      <th>name</th>\n",
       "      <th>length</th>\n",
       "    </tr>\n",
       "  </thead>\n",
       "  <tbody>\n",
       "    <tr>\n",
       "      <th>0</th>\n",
       "      <td>Empellón Cocina's Fat-Washed Mezcal</td>\n",
       "      <td>35</td>\n",
       "    </tr>\n",
       "    <tr>\n",
       "      <th>1</th>\n",
       "      <td>57 Chevy with a White License Plate</td>\n",
       "      <td>35</td>\n",
       "    </tr>\n",
       "    <tr>\n",
       "      <th>2</th>\n",
       "      <td>Radioactive Long Island Iced Tea</td>\n",
       "      <td>32</td>\n",
       "    </tr>\n",
       "    <tr>\n",
       "      <th>3</th>\n",
       "      <td>Owen's Grandmother's Revenge</td>\n",
       "      <td>28</td>\n",
       "    </tr>\n",
       "    <tr>\n",
       "      <th>4</th>\n",
       "      <td>Orange Scented Hot Chocolate</td>\n",
       "      <td>28</td>\n",
       "    </tr>\n",
       "    <tr>\n",
       "      <th>5</th>\n",
       "      <td>Pineapple Gingerale Smoothie</td>\n",
       "      <td>28</td>\n",
       "    </tr>\n",
       "    <tr>\n",
       "      <th>6</th>\n",
       "      <td>Lassi - A South Indian Drink</td>\n",
       "      <td>28</td>\n",
       "    </tr>\n",
       "    <tr>\n",
       "      <th>7</th>\n",
       "      <td>3-Mile Long Island Iced Tea</td>\n",
       "      <td>27</td>\n",
       "    </tr>\n",
       "    <tr>\n",
       "      <th>8</th>\n",
       "      <td>Lemon Elderflower Spritzer</td>\n",
       "      <td>26</td>\n",
       "    </tr>\n",
       "    <tr>\n",
       "      <th>9</th>\n",
       "      <td>Frozen Pineapple Daiquiri</td>\n",
       "      <td>25</td>\n",
       "    </tr>\n",
       "  </tbody>\n",
       "</table>\n",
       "</div>"
      ],
      "text/plain": [
       "                                  name  length\n",
       "0  Empellón Cocina's Fat-Washed Mezcal      35\n",
       "1  57 Chevy with a White License Plate      35\n",
       "2     Radioactive Long Island Iced Tea      32\n",
       "3         Owen's Grandmother's Revenge      28\n",
       "4         Orange Scented Hot Chocolate      28\n",
       "5         Pineapple Gingerale Smoothie      28\n",
       "6         Lassi - A South Indian Drink      28\n",
       "7          3-Mile Long Island Iced Tea      27\n",
       "8           Lemon Elderflower Spritzer      26\n",
       "9            Frozen Pineapple Daiquiri      25"
      ]
     },
     "execution_count": 113,
     "metadata": {},
     "output_type": "execute_result"
    }
   ],
   "source": [
    "r = drinks.aggregate([\n",
    "    {\"$project\": {\"name\": 1}},\n",
    "    {\"$addFields\": {\"length\": {\"$strLenCP\":\"$name\"}}},\n",
    "    {\"$project\": {\"_id\": 0, \"name\": 1, \"length\": 1}},\n",
    "    {\"$sort\": {\"length\": -1}},\n",
    "    {\"$limit\": 10},\n",
    " ])\n",
    "\n",
    "pd.DataFrame(r)"
   ]
  },
  {
   "cell_type": "markdown",
   "metadata": {},
   "source": [
    "<div style=\"height:200px;display:inline-block;width:100%;background:#fafafa;\"></div>"
   ]
  },
  {
   "cell_type": "markdown",
   "metadata": {},
   "source": [
    "## Conclusions"
   ]
  },
  {
   "cell_type": "markdown",
   "metadata": {},
   "source": [
    "Lorem ipsum dolor sit amet, consetetur sadipscing elitr, sed diam nonumy eirmod tempor invidunt ut labore et dolore magna aliquyam erat, sed diam voluptua. At vero eos et accusam et justo duo dolores et ea rebum. Stet clita kasd gubergren, no sea takimata sanctus est Lorem ipsum dolor sit amet. Lorem ipsum dolor sit amet, consetetur sadipscing elitr, sed diam nonumy eirmod tempor invidunt ut labore et dolore magna aliquyam erat, sed diam voluptua. At vero eos et accusam et justo duo dolores et ea rebum. Stet clita kasd gubergren, no sea takimata sanctus est Lorem ipsum dolor sit amet. Lorem ipsum dolor sit amet, consetetur sadipscing elitr, sed diam nonumy eirmod tempor invidunt ut labore et dolore magna aliquyam erat, sed diam voluptua. At vero eos et accusam et justo duo dolores et ea rebum. Stet clita kasd gubergren, no sea takimata sanctus est Lorem ipsum dolor sit amet. \n",
    "\n",
    "Duis autem vel eum iriure dolor in hendrerit in vulputate velit esse molestie consequat, vel illum dolore eu feugiat nulla facilisis at vero eros et accumsan et iusto odio dignissim qui blandit praesent luptatum zzril delenit augue duis dolore te feugait nulla facilisi. Lorem ipsum dolor sit amet, consectetuer adipiscing elit, sed diam nonummy nibh euismod tincidunt ut laoreet dolore magna aliquam erat volutpat."
   ]
  },
  {
   "cell_type": "markdown",
   "metadata": {},
   "source": [
    "## Learnings"
   ]
  },
  {
   "cell_type": "markdown",
   "metadata": {
    "hide_input": true
   },
   "source": [
    "Ut wisi enim ad minim veniam, quis nostrud exerci tation ullamcorper suscipit lobortis nisl ut aliquip ex ea commodo consequat. Duis autem vel eum iriure dolor in hendrerit in vulputate velit esse molestie consequat, vel illum dolore eu feugiat nulla facilisis at vero eros et accumsan et iusto odio dignissim qui blandit praesent luptatum zzril delenit augue duis dolore te feugait nulla facilisi. \n",
    "\n",
    "Duis autem vel eum iriure dolor in hendrerit in vulputate velit esse molestie consequat, vel illum dolore eu feugiat nulla facilisis at vero eros et accumsan et iusto odio dignissim qui blandit praesent luptatum zzril delenit augue duis dolore te feugait nulla facilisi. Lorem ipsum dolor sit amet, consectetuer adipiscing elit, sed diam nonummy nibh euismod tincidunt ut laoreet dolore magna aliquam erat volutpat."
   ]
  },
  {
   "cell_type": "code",
   "execution_count": 120,
   "metadata": {
    "hide_input": false
   },
   "outputs": [
    {
     "data": {
      "text/html": [
       "<style>\n",
       "/* display:none  -> hide In/Out column */\n",
       "/* display:block -> show In/Out column */\n",
       "div.prompt {display:none}\n",
       "h1#Table-of-Contents {display:none}\n",
       "</style>\n"
      ],
      "text/plain": [
       "<IPython.core.display.HTML object>"
      ]
     },
     "metadata": {},
     "output_type": "display_data"
    }
   ],
   "source": [
    "%%HTML\n",
    "<style>\n",
    "/* display:none  -> hide In/Out column */\n",
    "/* display:block -> show In/Out column */\n",
    "div.prompt {display:none}\n",
    "h1#Table-of-Contents {display:none}\n",
    "</style>"
   ]
  }
 ],
 "metadata": {
  "kernelspec": {
   "display_name": "bigdatalab1",
   "language": "python",
   "name": "bigdatalab1"
  },
  "language_info": {
   "codemirror_mode": {
    "name": "ipython",
    "version": 3
   },
   "file_extension": ".py",
   "mimetype": "text/x-python",
   "name": "python",
   "nbconvert_exporter": "python",
   "pygments_lexer": "ipython3",
   "version": "3.9.7"
  },
  "toc": {
   "base_numbering": 1,
   "nav_menu": {},
   "number_sections": true,
   "sideBar": false,
   "skip_h1_title": true,
   "title_cell": "Table of Contents",
   "title_sidebar": "Contents",
   "toc_cell": true,
   "toc_position": {
    "height": "47px",
    "left": "116px",
    "top": "166.125px",
    "width": "280px"
   },
   "toc_section_display": true,
   "toc_window_display": false
  }
 },
 "nbformat": 4,
 "nbformat_minor": 4
}
